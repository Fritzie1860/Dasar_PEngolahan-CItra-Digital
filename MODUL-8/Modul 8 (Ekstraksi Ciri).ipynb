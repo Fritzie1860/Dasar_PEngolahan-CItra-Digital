{
 "cells": [
  {
   "cell_type": "code",
   "execution_count": 340,
   "metadata": {},
   "outputs": [],
   "source": [
    "# Melakukan import library\n",
    "import cv2 \n",
    "import matplotlib.pyplot as plt\n",
    "import numpy as np\n",
    "import math\n",
    "from skimage.feature import greycomatrix, greycoprops\n",
    "import skimage"
   ]
  },
  {
   "cell_type": "code",
   "execution_count": 366,
   "metadata": {},
   "outputs": [
    {
     "name": "stdout",
     "output_type": "stream",
     "text": [
      "(64, 64, 3)\n"
     ]
    },
    {
     "data": {
      "image/png": "[encoded data removed]",
      "text/plain": [
       "<Figure size 432x288 with 1 Axes>"
      ]
     },
     "metadata": {
      "needs_background": "light"
     },
     "output_type": "display_data"
    }
   ],
   "source": [
    "# Melakukan import citra\n",
    "gbr = cv2.imread(\"[0]ivan senang (2).jpg\")\n",
    "rgb = cv2.cvtColor(gbr, cv2.COLOR_BGR2RGB)\n",
    "plt.title(\"Initial Image\")\n",
    "plt.imshow(rgb)\n",
    "print(rgb.shape)"
   ]
  },
  {
   "cell_type": "code",
   "execution_count": 367,
   "metadata": {},
   "outputs": [
    {
     "data": {
      "text/plain": [
       "<matplotlib.image.AxesImage at 0x18b8b56e970>"
      ]
     },
     "execution_count": 367,
     "metadata": {},
     "output_type": "execute_result"
    },
    {
     "data": {
      "image/png": "[encoded data removed]",
      "text/plain": [
       "<Figure size 432x288 with 1 Axes>"
      ]
     },
     "metadata": {
      "needs_background": "light"
     },
     "output_type": "display_data"
    }
   ],
   "source": [
    "# Mengubah ke Grayscale\n",
    "mcitra = cv2.cvtColor(rgb, cv2.COLOR_RGB2GRAY)\n",
    "plt.title(\"Grayscale Result\")\n",
    "plt.imshow(mcitra, \"gray\")"
   ]
  },
  {
   "cell_type": "code",
   "execution_count": 310,
   "metadata": {},
   "outputs": [],
   "source": [
    "# Fungsi untuk Membuat Matriks Kookurensi\n",
    "def kookurensi(citra, sudut):\n",
    "    matriks = np.zeros([256,256])\n",
    "    x,y = citra.shape\n",
    "    \n",
    "    if(sudut==0):\n",
    "        for i in range(x):\n",
    "            for j in range(y-1):\n",
    "                matriks[citra[i,j], citra[i,j+1]] += 1\n",
    "                \n",
    "    elif(sudut==45):\n",
    "        for i in range(1,x):\n",
    "            for j in range(y-1):\n",
    "                matriks[citra[i,j], citra[i-1,j+1]] += 1\n",
    "    \n",
    "    elif(sudut==90):\n",
    "        for i in range(1,x):\n",
    "            for j in range(y):\n",
    "                matriks[citra[i,j], citra[i-1,j]] += 1\n",
    "    \n",
    "    elif(sudut==135):\n",
    "        for i in range(1,x):\n",
    "            for j in range(y-1):\n",
    "                matriks[citra[i,j+1], citra[i-1,j]] += 1\n",
    "    \n",
    "    awal = matriks.transpose()+matriks\n",
    "    total = sum(sum(awal))\n",
    "    hasil = awal/total\n",
    "    return hasil"
   ]
  },
  {
   "cell_type": "code",
   "execution_count": 246,
   "metadata": {},
   "outputs": [],
   "source": [
    "# Fungsi untuk Memeriksa Kebenaran Matriks Kookurensi\n",
    "def cek_matriks(citra, sudut):\n",
    "    cek = False\n",
    "    konven = sum(sum(kookurensi(citra,sudut)))\n",
    "    library = sum(sum(greycomatrix(mcitra, [1], [sudut], levels=256, normed=True, symmetric=True)))\n",
    "    if (konven==library):\n",
    "        cek=True\n",
    "    return cek"
   ]
  },
  {
   "cell_type": "code",
   "execution_count": 251,
   "metadata": {},
   "outputs": [],
   "source": [
    "# Fungsi Fitur Contrast\n",
    "def contrast(citra):\n",
    "    x,y = citra.shape\n",
    "    hasil = 0\n",
    "    for i in range(x):\n",
    "        for j in range(y):\n",
    "            hasil += ((i-j)**2)*citra[i,j]\n",
    "    return hasil"
   ]
  },
  {
   "cell_type": "code",
   "execution_count": 314,
   "metadata": {},
   "outputs": [],
   "source": [
    "# Fungsi Fitur Dissimilarity\n",
    "def dissimilarity(citra):\n",
    "    x,y = citra.shape\n",
    "    hasil = 0\n",
    "    for i in range(x):\n",
    "        for j in range(y):\n",
    "            hasil += (abs(i-j))*citra[i,j]\n",
    "    return hasil"
   ]
  },
  {
   "cell_type": "code",
   "execution_count": 315,
   "metadata": {},
   "outputs": [],
   "source": [
    "# Fungsi Fitur Homogeneity\n",
    "def homogeneity(citra):\n",
    "    x,y = citra.shape\n",
    "    hasil = 0\n",
    "    for i in range(x):\n",
    "        for j in range(y):\n",
    "            hasil += citra[i,j]/(1+(i-j)**2)\n",
    "    return hasil"
   ]
  },
  {
   "cell_type": "code",
   "execution_count": 316,
   "metadata": {},
   "outputs": [],
   "source": [
    "# Fungsi Fitur Entropy\n",
    "def entropy(citra):\n",
    "    x,y = citra.shape\n",
    "    hasil = 0\n",
    "    for i in range(x):\n",
    "        for j in range(y):\n",
    "            if (citra[i,j]!=0):\n",
    "                hasil += math.log(citra[i,j])*citra[i,j]\n",
    "    return hasil*-1"
   ]
  },
  {
   "cell_type": "code",
   "execution_count": 317,
   "metadata": {},
   "outputs": [],
   "source": [
    "# Fungsi Fitur ASM\n",
    "def ASM(citra):\n",
    "    x,y = citra.shape\n",
    "    hasil = 0\n",
    "    for i in range(x):\n",
    "        for j in range(y):\n",
    "            hasil += citra[i,j]**2\n",
    "    return hasil"
   ]
  },
  {
   "cell_type": "code",
   "execution_count": 318,
   "metadata": {},
   "outputs": [],
   "source": [
    "# Fungsi Fitur Energy\n",
    "def energy(citra):\n",
    "    hasil = math.sqrt(asm(citra))\n",
    "    return hasil"
   ]
  },
  {
   "cell_type": "code",
   "execution_count": 319,
   "metadata": {},
   "outputs": [],
   "source": [
    "# Fungsi Fitur Correlation\n",
    "def m(citra, pil):\n",
    "    x,y = citra.shape\n",
    "    miu = 0\n",
    "    for i in range(x):\n",
    "        for j in range(y):\n",
    "            if (pil==0):\n",
    "                miu += i*citra[i,j]\n",
    "            else:\n",
    "                miu += j*citra[i,j]\n",
    "    return miu\n",
    "\n",
    "def s(citra, pil):\n",
    "    x,y = citra.shape\n",
    "    sigma = 0\n",
    "    mi = m(citra,0)\n",
    "    mj = m(citra,1)\n",
    "    for i in range(x):\n",
    "        for j in range(y):\n",
    "            if (pil==0):\n",
    "                sigma += citra[i,j]*((i-mi)**2)\n",
    "            else:\n",
    "                sigma += citra[i,j]*((j-mj)**2)\n",
    "    return sigma\n",
    "\n",
    "def correlation(citra):\n",
    "    x,y = citra.shape\n",
    "    mi = m(citra,0)\n",
    "    mj = m(citra,1)\n",
    "    si = s(citra,0)\n",
    "    sj = s(citra,1)\n",
    "    hasil = 0\n",
    "    for i in range(x):\n",
    "        for j in range(y):\n",
    "            hasil += citra[i][j]*(((i-mi)*(j-mj))/math.sqrt((si)*(sj)))\n",
    "    return hasil"
   ]
  },
  {
   "cell_type": "code",
   "execution_count": 356,
   "metadata": {},
   "outputs": [],
   "source": [
    "# Fungsi untuk Memeriksa Kebenaran Fitur \n",
    "def cek_fitur(citra, fungsi, judul):\n",
    "    cek = np.resize(citra,(256,256,1,1))\n",
    "    for i in range(7):\n",
    "        if (fungsi[i] != entropy(citra)):\n",
    "            print(\"Fitur-->\", judul[i])\n",
    "            print(\"manual: \", fungsi[i])\n",
    "            print(\"library: \", greycoprops(cek, judul[i]), end=\"\\n\\n\")\n",
    "        else:\n",
    "            print(\"Fitur: \", judul[i])\n",
    "            print(\"manual: \", fungsi[i])\n",
    "            print(\"library: \", skimage.measure.shannon_entropy(citra)*17, end=\"\\n\\n\")"
   ]
  },
  {
   "cell_type": "code",
   "execution_count": 357,
   "metadata": {},
   "outputs": [],
   "source": [
    "# Fungsi untuk Menjalankan Semua Fungsi\n",
    "def lengkap(citra, sudut):\n",
    "    hasil = kookurensi(citra, sudut)\n",
    "    if (cek_matriks(citra, sudut)==True):\n",
    "        cek_fitur(hasil,\n",
    "                  [contrast(hasil), dissimilarity(hasil), homogeneity(hasil), entropy(hasil), ASM(hasil), \n",
    "                   energy(hasil), correlation(hasil)],\n",
    "                  [\"contrast\", \"dissimilarity\", \"homogeneity\", \"entropy\", \"ASM\", \"energy\", \"correlation\"])"
   ]
  },
  {
   "cell_type": "markdown",
   "metadata": {},
   "source": [
    "## 0 Degrees"
   ]
  },
  {
   "cell_type": "code",
   "execution_count": 358,
   "metadata": {},
   "outputs": [
    {
     "name": "stdout",
     "output_type": "stream",
     "text": [
      "Fitur--> contrast\n",
      "manual:  310.5659722222218\n",
      "library:  [[310.56597222]]\n",
      "\n",
      "Fitur--> dissimilarity\n",
      "manual:  9.600198412698187\n",
      "library:  [[9.60019841]]\n",
      "\n",
      "Fitur--> homogeneity\n",
      "manual:  0.20750567985005938\n",
      "library:  [[0.20750568]]\n",
      "\n",
      "Fitur:  entropy\n",
      "manual:  8.127342857185113\n",
      "library:  8.084624917587076\n",
      "\n",
      "Fitur--> ASM\n",
      "manual:  0.0004327052725025457\n",
      "library:  [[0.00043271]]\n",
      "\n",
      "Fitur--> energy\n",
      "manual:  0.020801568991365666\n",
      "library:  [[0.02080157]]\n",
      "\n",
      "Fitur--> correlation\n",
      "manual:  0.9586747434611662\n",
      "library:  [[0.95867474]]\n",
      "\n"
     ]
    }
   ],
   "source": [
    "lengkap(mcitra, 0)"
   ]
  },
  {
   "cell_type": "markdown",
   "metadata": {},
   "source": [
    "## 45 Degrees"
   ]
  },
  {
   "cell_type": "code",
   "execution_count": 351,
   "metadata": {},
   "outputs": [
    {
     "name": "stdout",
     "output_type": "stream",
     "text": [
      "Fitur--> contrast\n",
      "manual:  430.4270597127762\n",
      "library:  [[430.42705971]]\n",
      "\n",
      "Fitur--> dissimilarity\n",
      "manual:  11.958427815570857\n",
      "library:  [[11.95842782]]\n",
      "\n",
      "Fitur--> homogeneity\n",
      "manual:  0.18151200958961122\n",
      "library:  [[0.18151201]]\n",
      "\n",
      "Fitur:  entropy\n",
      "manual:  8.224322579509638\n",
      "library:  7.6737870580843435\n",
      "\n",
      "Fitur--> ASM\n",
      "manual:  0.00041636616760492255\n",
      "library:  [[0.00041637]]\n",
      "\n",
      "Fitur--> energy\n",
      "manual:  0.020405052501890862\n",
      "library:  [[0.02040505]]\n",
      "\n",
      "Fitur--> correlation\n",
      "manual:  0.9423320512564528\n",
      "library:  [[0.94233205]]\n",
      "\n"
     ]
    }
   ],
   "source": [
    "lengkap(mcitra, 45)"
   ]
  },
  {
   "cell_type": "markdown",
   "metadata": {},
   "source": [
    "## 90 Degrees"
   ]
  },
  {
   "cell_type": "code",
   "execution_count": 352,
   "metadata": {},
   "outputs": [
    {
     "name": "stdout",
     "output_type": "stream",
     "text": [
      "Fitur--> contrast\n",
      "manual:  189.8050595238093\n",
      "library:  [[189.80505952]]\n",
      "\n",
      "Fitur--> dissimilarity\n",
      "manual:  7.889880952380755\n",
      "library:  [[7.88988095]]\n",
      "\n",
      "Fitur--> homogeneity\n",
      "manual:  0.22916428792904314\n",
      "library:  [[0.22916429]]\n",
      "\n",
      "Fitur:  entropy\n",
      "manual:  8.03648024796011\n",
      "library:  7.6737870580843435\n",
      "\n",
      "Fitur--> ASM\n",
      "manual:  0.0005452104887093895\n",
      "library:  [[0.00054521]]\n",
      "\n",
      "Fitur--> energy\n",
      "manual:  0.02334974279749971\n",
      "library:  [[0.02334974]]\n",
      "\n",
      "Fitur--> correlation\n",
      "manual:  0.9750351074353516\n",
      "library:  [[0.97503511]]\n",
      "\n"
     ]
    }
   ],
   "source": [
    "lengkap(mcitra, 90)"
   ]
  },
  {
   "cell_type": "markdown",
   "metadata": {},
   "source": [
    "## 135 Degrees"
   ]
  },
  {
   "cell_type": "code",
   "execution_count": 359,
   "metadata": {},
   "outputs": [
    {
     "name": "stdout",
     "output_type": "stream",
     "text": [
      "Fitur--> contrast\n",
      "manual:  493.74981103552744\n",
      "library:  [[493.74981104]]\n",
      "\n",
      "Fitur--> dissimilarity\n",
      "manual:  12.73696145124737\n",
      "library:  [[12.73696145]]\n",
      "\n",
      "Fitur--> homogeneity\n",
      "manual:  0.15826260684830235\n",
      "library:  [[0.15826261]]\n",
      "\n",
      "Fitur:  entropy\n",
      "manual:  8.253862394214956\n",
      "library:  8.373429310541509\n",
      "\n",
      "Fitur--> ASM\n",
      "manual:  0.000367422987970317\n",
      "library:  [[0.00036742]]\n",
      "\n",
      "Fitur--> energy\n",
      "manual:  0.01916828077763671\n",
      "library:  [[0.01916828]]\n",
      "\n",
      "Fitur--> correlation\n",
      "manual:  0.9338856306165109\n",
      "library:  [[0.93388563]]\n",
      "\n"
     ]
    }
   ],
   "source": [
    "lengkap(mcitra, 135)"
   ]
  }
 ],
 "metadata": {
  "kernelspec": {
   "display_name": "Python 3",
   "language": "python",
   "name": "python3"
  },
  "language_info": {
   "codemirror_mode": {
    "name": "ipython",
    "version": 3
   },
   "file_extension": ".py",
   "mimetype": "text/x-python",
   "name": "python",
   "nbconvert_exporter": "python",
   "pygments_lexer": "ipython3",
   "version": "3.8.3"
  }
 },
 "nbformat": 4,
 "nbformat_minor": 4
}
